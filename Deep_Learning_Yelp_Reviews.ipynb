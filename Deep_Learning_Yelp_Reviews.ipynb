{
 "cells": [
  {
   "cell_type": "code",
   "execution_count": 1,
   "metadata": {
    "colab": {
     "base_uri": "https://localhost:8080/"
    },
    "id": "rket6XpI_2c0",
    "outputId": "a424aa3a-db45-4779-d26a-5ae638098040"
   },
   "outputs": [
    {
     "name": "stdout",
     "output_type": "stream",
     "text": [
      "Collecting spark-nlp\n",
      "  Downloading spark_nlp-5.2.3-py2.py3-none-any.whl (547 kB)\n",
      "\u001b[?25l     \u001b[90m━━━━━━━━━━━━━━━━━━━━━━━━━━━━━━━━━━━━━━━━\u001b[0m \u001b[32m0.0/547.6 kB\u001b[0m \u001b[31m?\u001b[0m eta \u001b[36m-:--:--\u001b[0m\r",
      "\u001b[2K     \u001b[91m━━━━━━\u001b[0m\u001b[91m╸\u001b[0m\u001b[90m━━━━━━━━━━━━━━━━━━━━━━━━━━━━━━━━━\u001b[0m \u001b[32m92.2/547.6 kB\u001b[0m \u001b[31m2.8 MB/s\u001b[0m eta \u001b[36m0:00:01\u001b[0m\r",
      "\u001b[2K     \u001b[91m━━━━━━━━━━━━━━━━━━━━━━━━━━\u001b[0m\u001b[91m╸\u001b[0m\u001b[90m━━━━━━━━━━━━━\u001b[0m \u001b[32m368.6/547.6 kB\u001b[0m \u001b[31m5.5 MB/s\u001b[0m eta \u001b[36m0:00:01\u001b[0m\r",
      "\u001b[2K     \u001b[90m━━━━━━━━━━━━━━━━━━━━━━━━━━━━━━━━━━━━━━━━\u001b[0m \u001b[32m547.6/547.6 kB\u001b[0m \u001b[31m5.6 MB/s\u001b[0m eta \u001b[36m0:00:00\u001b[0m\n",
      "\u001b[?25hInstalling collected packages: spark-nlp\n",
      "Successfully installed spark-nlp-5.2.3\n",
      "Collecting pyspark\n",
      "  Downloading pyspark-3.5.0.tar.gz (316.9 MB)\n",
      "\u001b[2K     \u001b[90m━━━━━━━━━━━━━━━━━━━━━━━━━━━━━━━━━━━━━━━━\u001b[0m \u001b[32m316.9/316.9 MB\u001b[0m \u001b[31m2.4 MB/s\u001b[0m eta \u001b[36m0:00:00\u001b[0m\n",
      "\u001b[?25h  Preparing metadata (setup.py) ... \u001b[?25l\u001b[?25hdone\n",
      "Requirement already satisfied: py4j==0.10.9.7 in /usr/local/lib/python3.10/dist-packages (from pyspark) (0.10.9.7)\n",
      "Building wheels for collected packages: pyspark\n",
      "  Building wheel for pyspark (setup.py) ... \u001b[?25l\u001b[?25hdone\n",
      "  Created wheel for pyspark: filename=pyspark-3.5.0-py2.py3-none-any.whl size=317425345 sha256=6290963a52025405fa1afbdb25a53e5d92f1c12560e39dfa3d597bdf0f16017f\n",
      "  Stored in directory: /root/.cache/pip/wheels/41/4e/10/c2cf2467f71c678cfc8a6b9ac9241e5e44a01940da8fbb17fc\n",
      "Successfully built pyspark\n",
      "Installing collected packages: pyspark\n",
      "Successfully installed pyspark-3.5.0\n"
     ]
    }
   ],
   "source": [
    "!pip install spark-nlp\n",
    "!pip install pyspark"
   ]
  },
  {
   "cell_type": "code",
   "execution_count": 2,
   "metadata": {
    "id": "OVrNDpgMrLrQ"
   },
   "outputs": [],
   "source": [
    "# Importing necessary libraries\n",
    "import json\n",
    "import os\n",
    "import random\n",
    "import string\n",
    "import re\n",
    "import numpy as np\n",
    "\n",
    "import sparknlp\n",
    "from sparknlp.annotator import *\n",
    "from sparknlp.base import *\n",
    "\n",
    "from pyspark.ml import Pipeline\n",
    "from pyspark.ml.feature import Word2Vec\n",
    "from pyspark.ml.feature import VectorAssembler\n",
    "from pyspark.ml.feature import StopWordsRemover\n",
    "from pyspark.ml.classification import MultilayerPerceptronClassifier\n",
    "from pyspark.ml.evaluation import MulticlassClassificationEvaluator\n",
    "\n",
    "from pyspark.sql import functions as F\n",
    "from pyspark.sql import SparkSession\n",
    "from pyspark.sql.functions import col, round\n",
    "from pyspark.sql.functions import lower\n",
    "from pyspark.sql.functions import length\n",
    "\n",
    "import pandas as pd\n",
    "import seaborn as sns\n",
    "import matplotlib.pyplot as plt"
   ]
  },
  {
   "cell_type": "code",
   "execution_count": 3,
   "metadata": {
    "colab": {
     "base_uri": "https://localhost:8080/",
     "height": 73
    },
    "id": "z0ZPkpg2lHQ8",
    "outputId": "d63e99ad-8048-43a7-b453-f46178f30e79"
   },
   "outputs": [
    {
     "data": {
      "text/html": [
       "\n",
       "     <input type=\"file\" id=\"files-56ce13de-b600-47de-897f-561f0b2808a7\" name=\"files[]\" multiple disabled\n",
       "        style=\"border:none\" />\n",
       "     <output id=\"result-56ce13de-b600-47de-897f-561f0b2808a7\">\n",
       "      Upload widget is only available when the cell has been executed in the\n",
       "      current browser session. Please rerun this cell to enable.\n",
       "      </output>\n",
       "      <script>// Copyright 2017 Google LLC\n",
       "//\n",
       "// Licensed under the Apache License, Version 2.0 (the \"License\");\n",
       "// you may not use this file except in compliance with the License.\n",
       "// You may obtain a copy of the License at\n",
       "//\n",
       "//      http://www.apache.org/licenses/LICENSE-2.0\n",
       "//\n",
       "// Unless required by applicable law or agreed to in writing, software\n",
       "// distributed under the License is distributed on an \"AS IS\" BASIS,\n",
       "// WITHOUT WARRANTIES OR CONDITIONS OF ANY KIND, either express or implied.\n",
       "// See the License for the specific language governing permissions and\n",
       "// limitations under the License.\n",
       "\n",
       "/**\n",
       " * @fileoverview Helpers for google.colab Python module.\n",
       " */\n",
       "(function(scope) {\n",
       "function span(text, styleAttributes = {}) {\n",
       "  const element = document.createElement('span');\n",
       "  element.textContent = text;\n",
       "  for (const key of Object.keys(styleAttributes)) {\n",
       "    element.style[key] = styleAttributes[key];\n",
       "  }\n",
       "  return element;\n",
       "}\n",
       "\n",
       "// Max number of bytes which will be uploaded at a time.\n",
       "const MAX_PAYLOAD_SIZE = 100 * 1024;\n",
       "\n",
       "function _uploadFiles(inputId, outputId) {\n",
       "  const steps = uploadFilesStep(inputId, outputId);\n",
       "  const outputElement = document.getElementById(outputId);\n",
       "  // Cache steps on the outputElement to make it available for the next call\n",
       "  // to uploadFilesContinue from Python.\n",
       "  outputElement.steps = steps;\n",
       "\n",
       "  return _uploadFilesContinue(outputId);\n",
       "}\n",
       "\n",
       "// This is roughly an async generator (not supported in the browser yet),\n",
       "// where there are multiple asynchronous steps and the Python side is going\n",
       "// to poll for completion of each step.\n",
       "// This uses a Promise to block the python side on completion of each step,\n",
       "// then passes the result of the previous step as the input to the next step.\n",
       "function _uploadFilesContinue(outputId) {\n",
       "  const outputElement = document.getElementById(outputId);\n",
       "  const steps = outputElement.steps;\n",
       "\n",
       "  const next = steps.next(outputElement.lastPromiseValue);\n",
       "  return Promise.resolve(next.value.promise).then((value) => {\n",
       "    // Cache the last promise value to make it available to the next\n",
       "    // step of the generator.\n",
       "    outputElement.lastPromiseValue = value;\n",
       "    return next.value.response;\n",
       "  });\n",
       "}\n",
       "\n",
       "/**\n",
       " * Generator function which is called between each async step of the upload\n",
       " * process.\n",
       " * @param {string} inputId Element ID of the input file picker element.\n",
       " * @param {string} outputId Element ID of the output display.\n",
       " * @return {!Iterable<!Object>} Iterable of next steps.\n",
       " */\n",
       "function* uploadFilesStep(inputId, outputId) {\n",
       "  const inputElement = document.getElementById(inputId);\n",
       "  inputElement.disabled = false;\n",
       "\n",
       "  const outputElement = document.getElementById(outputId);\n",
       "  outputElement.innerHTML = '';\n",
       "\n",
       "  const pickedPromise = new Promise((resolve) => {\n",
       "    inputElement.addEventListener('change', (e) => {\n",
       "      resolve(e.target.files);\n",
       "    });\n",
       "  });\n",
       "\n",
       "  const cancel = document.createElement('button');\n",
       "  inputElement.parentElement.appendChild(cancel);\n",
       "  cancel.textContent = 'Cancel upload';\n",
       "  const cancelPromise = new Promise((resolve) => {\n",
       "    cancel.onclick = () => {\n",
       "      resolve(null);\n",
       "    };\n",
       "  });\n",
       "\n",
       "  // Wait for the user to pick the files.\n",
       "  const files = yield {\n",
       "    promise: Promise.race([pickedPromise, cancelPromise]),\n",
       "    response: {\n",
       "      action: 'starting',\n",
       "    }\n",
       "  };\n",
       "\n",
       "  cancel.remove();\n",
       "\n",
       "  // Disable the input element since further picks are not allowed.\n",
       "  inputElement.disabled = true;\n",
       "\n",
       "  if (!files) {\n",
       "    return {\n",
       "      response: {\n",
       "        action: 'complete',\n",
       "      }\n",
       "    };\n",
       "  }\n",
       "\n",
       "  for (const file of files) {\n",
       "    const li = document.createElement('li');\n",
       "    li.append(span(file.name, {fontWeight: 'bold'}));\n",
       "    li.append(span(\n",
       "        `(${file.type || 'n/a'}) - ${file.size} bytes, ` +\n",
       "        `last modified: ${\n",
       "            file.lastModifiedDate ? file.lastModifiedDate.toLocaleDateString() :\n",
       "                                    'n/a'} - `));\n",
       "    const percent = span('0% done');\n",
       "    li.appendChild(percent);\n",
       "\n",
       "    outputElement.appendChild(li);\n",
       "\n",
       "    const fileDataPromise = new Promise((resolve) => {\n",
       "      const reader = new FileReader();\n",
       "      reader.onload = (e) => {\n",
       "        resolve(e.target.result);\n",
       "      };\n",
       "      reader.readAsArrayBuffer(file);\n",
       "    });\n",
       "    // Wait for the data to be ready.\n",
       "    let fileData = yield {\n",
       "      promise: fileDataPromise,\n",
       "      response: {\n",
       "        action: 'continue',\n",
       "      }\n",
       "    };\n",
       "\n",
       "    // Use a chunked sending to avoid message size limits. See b/62115660.\n",
       "    let position = 0;\n",
       "    do {\n",
       "      const length = Math.min(fileData.byteLength - position, MAX_PAYLOAD_SIZE);\n",
       "      const chunk = new Uint8Array(fileData, position, length);\n",
       "      position += length;\n",
       "\n",
       "      const base64 = btoa(String.fromCharCode.apply(null, chunk));\n",
       "      yield {\n",
       "        response: {\n",
       "          action: 'append',\n",
       "          file: file.name,\n",
       "          data: base64,\n",
       "        },\n",
       "      };\n",
       "\n",
       "      let percentDone = fileData.byteLength === 0 ?\n",
       "          100 :\n",
       "          Math.round((position / fileData.byteLength) * 100);\n",
       "      percent.textContent = `${percentDone}% done`;\n",
       "\n",
       "    } while (position < fileData.byteLength);\n",
       "  }\n",
       "\n",
       "  // All done.\n",
       "  yield {\n",
       "    response: {\n",
       "      action: 'complete',\n",
       "    }\n",
       "  };\n",
       "}\n",
       "\n",
       "scope.google = scope.google || {};\n",
       "scope.google.colab = scope.google.colab || {};\n",
       "scope.google.colab._files = {\n",
       "  _uploadFiles,\n",
       "  _uploadFilesContinue,\n",
       "};\n",
       "})(self);\n",
       "</script> "
      ],
      "text/plain": [
       "<IPython.core.display.HTML object>"
      ]
     },
     "metadata": {},
     "output_type": "display_data"
    },
    {
     "name": "stdout",
     "output_type": "stream",
     "text": [
      "Saving kaggle.json to kaggle.json\n"
     ]
    }
   ],
   "source": [
    "from google.colab import files\n",
    "\n",
    "# Upload your kaggle.json API file here\n",
    "uploaded = files.upload()\n"
   ]
  },
  {
   "cell_type": "code",
   "execution_count": 4,
   "metadata": {
    "colab": {
     "base_uri": "https://localhost:8080/"
    },
    "id": "zH7XrzoZnlhf",
    "outputId": "584f49f7-1e25-40a0-dcb4-aa3dcc5f606b"
   },
   "outputs": [
    {
     "name": "stdout",
     "output_type": "stream",
     "text": [
      "Downloading yelp-dataset.zip to /content\n",
      "100% 4.06G/4.07G [00:45<00:00, 152MB/s]\n",
      "100% 4.07G/4.07G [00:46<00:00, 94.9MB/s]\n"
     ]
    }
   ],
   "source": [
    "!pip install -q kaggle\n",
    "!mkdir -p ~/.kaggle\n",
    "!cp kaggle.json ~/.kaggle/\n",
    "!chmod 600 ~/.kaggle/kaggle.json\n",
    "!kaggle datasets download -d yelp-dataset/yelp-dataset\n",
    "!unzip -q yelp-dataset.zip\n",
    "# Remove the unwanted files\n",
    "os.remove('yelp_academic_dataset_business.json')\n",
    "os.remove('yelp_academic_dataset_checkin.json')\n",
    "os.remove('yelp_academic_dataset_user.json')\n",
    "os.remove('yelp_academic_dataset_tip.json')"
   ]
  },
  {
   "cell_type": "code",
   "execution_count": 5,
   "metadata": {
    "id": "8dggGldnFq_h"
   },
   "outputs": [],
   "source": [
    "# Initialize Spark NLP\n",
    "spark = sparknlp.start()"
   ]
  },
  {
   "cell_type": "code",
   "execution_count": 6,
   "metadata": {
    "colab": {
     "base_uri": "https://localhost:8080/"
    },
    "id": "K4sChgqUnMnZ",
    "outputId": "203d576d-f766-49c5-a366-78f2edf6efb3"
   },
   "outputs": [
    {
     "name": "stdout",
     "output_type": "stream",
     "text": [
      "+--------------------+----+-------------------+-----+--------------------+-----+--------------------+------+--------------------+\n",
      "|         business_id|cool|               date|funny|           review_id|stars|                text|useful|             user_id|\n",
      "+--------------------+----+-------------------+-----+--------------------+-----+--------------------+------+--------------------+\n",
      "|XQfwVwDr-v0ZS3_Cb...|   0|2018-07-07 22:09:11|    0|KU_O5udG6zpxOg-Vc...|  3.0|If you decide to ...|     0|mh_-eMZ6K5RLWhZyI...|\n",
      "|7ATYjTIgM3jUlt4UM...|   1|2012-01-03 15:28:18|    0|BiTunyQ73aT9WBnpR...|  5.0|I've taken a lot ...|     1|OyoGAe7OKpv6SyGZT...|\n",
      "|YjUWPpI6HXG530lwP...|   0|2014-02-05 20:30:30|    0|saUsX_uimxRlCVr67...|  3.0|Family diner. Had...|     0|8g_iMtfSiwikVnbP2...|\n",
      "|kxX2SOes4o-D3ZQBk...|   1|2015-01-04 00:01:03|    0|AqPFMleE6RsU23_au...|  5.0|Wow!  Yummy, diff...|     1|_7bHUi9Uuf5__HHc_...|\n",
      "|e4Vwtrqf-wpJfwesg...|   1|2017-01-14 20:54:15|    0|Sx8TMOWLNuJBWer-0...|  4.0|Cute interior and...|     1|bcjbaE6dDog4jkNY9...|\n",
      "|04UD14gamNjLY0IDY...|   1|2015-09-23 23:10:31|    2|JrIxlS1TzJ-iCu79u...|  1.0|I am a long term ...|     1|eUta8W_HdHMXPzLBB...|\n",
      "|gmjsEdUsKpj9Xxu6p...|   0|2015-01-03 23:21:18|    2|6AxgBCNX_PNTOxmbR...|  5.0|Loved this tour! ...|     0|r3zeYsv1XFBRA4dJp...|\n",
      "|LHSTtnW3YHCeUkRDG...|   0|2015-08-07 02:29:16|    0|_ZeMknuYdlQcUqng_...|  5.0|Amazingly amazing...|     2|yfFzsLmaWF2d4Sr0U...|\n",
      "|B5XSoSG3SfvQGtKEG...|   0|2016-03-30 22:46:33|    1|ZKvDG2sBvHVdF5oBN...|  3.0|This easter inste...|     1|wSTuiTk-sKNdcFypr...|\n",
      "|gebiRewfieSdtt17P...|   0|2016-07-25 07:31:06|    0|pUycOfUwM8vqX7KjR...|  3.0|Had a party of 6 ...|     0|59MxRhNVhU9MYndMk...|\n",
      "+--------------------+----+-------------------+-----+--------------------+-----+--------------------+------+--------------------+\n",
      "only showing top 10 rows\n",
      "\n"
     ]
    }
   ],
   "source": [
    "# Read the JSON file into a DataFrame\n",
    "df = spark.read.json(\"yelp_academic_dataset_review.json\")\n",
    "df.show(10)"
   ]
  },
  {
   "cell_type": "code",
   "execution_count": 7,
   "metadata": {
    "colab": {
     "base_uri": "https://localhost:8080/"
    },
    "id": "Za7BpJ_iCLqT",
    "outputId": "134ff7f6-e095-4f6b-9b00-b8b18b0da501"
   },
   "outputs": [
    {
     "name": "stdout",
     "output_type": "stream",
     "text": [
      "+-----+--------------------+\n",
      "|stars|                text|\n",
      "+-----+--------------------+\n",
      "|  3.0|If you decide to ...|\n",
      "|  5.0|I've taken a lot ...|\n",
      "|  3.0|Family diner. Had...|\n",
      "|  5.0|Wow!  Yummy, diff...|\n",
      "|  4.0|Cute interior and...|\n",
      "|  1.0|I am a long term ...|\n",
      "|  5.0|Loved this tour! ...|\n",
      "|  5.0|Amazingly amazing...|\n",
      "|  3.0|This easter inste...|\n",
      "|  3.0|Had a party of 6 ...|\n",
      "+-----+--------------------+\n",
      "only showing top 10 rows\n",
      "\n"
     ]
    }
   ],
   "source": [
    "# drop columns which are not used\n",
    "df = df.drop(\"review_id\",\"business_id\", \"date\", \"cool\", \"funny\", \"useful\", \"user_id\")\n",
    "df.show(10)"
   ]
  },
  {
   "cell_type": "code",
   "execution_count": 8,
   "metadata": {
    "colab": {
     "base_uri": "https://localhost:8080/"
    },
    "id": "es0lsEfZoe0N",
    "outputId": "ebb4cfad-77fe-4002-c022-8cec27567c78"
   },
   "outputs": [
    {
     "name": "stdout",
     "output_type": "stream",
     "text": [
      "+-----+--------------------+-----------+\n",
      "|stars|                text|text_length|\n",
      "+-----+--------------------+-----------+\n",
      "|  3.0|If you decide to ...|        513|\n",
      "|  5.0|I've taken a lot ...|        829|\n",
      "|  3.0|Family diner. Had...|        339|\n",
      "|  5.0|Wow!  Yummy, diff...|        243|\n",
      "|  4.0|Cute interior and...|        534|\n",
      "|  1.0|I am a long term ...|        341|\n",
      "|  5.0|Loved this tour! ...|        804|\n",
      "|  5.0|Amazingly amazing...|        192|\n",
      "|  3.0|This easter inste...|        526|\n",
      "|  3.0|Had a party of 6 ...|        524|\n",
      "+-----+--------------------+-----------+\n",
      "only showing top 10 rows\n",
      "\n"
     ]
    }
   ],
   "source": [
    "# add a column corresponding to the length of each review\n",
    "df = df.withColumn(\"text_length\", length(\"text\"))\n",
    "df.show(10)"
   ]
  },
  {
   "cell_type": "code",
   "execution_count": 9,
   "metadata": {
    "id": "yLAbSbAsF-t2"
   },
   "outputs": [],
   "source": [
    "# removing the reviews with the length more than 500\n",
    "df = df.filter(df[\"text_length\"] <=500)"
   ]
  },
  {
   "cell_type": "code",
   "execution_count": 10,
   "metadata": {
    "id": "eJo2I-Hyg134"
   },
   "outputs": [],
   "source": [
    "# drop the column text_length\n",
    "df= df.drop(\"text_length\")"
   ]
  },
  {
   "cell_type": "code",
   "execution_count": 11,
   "metadata": {
    "colab": {
     "base_uri": "https://localhost:8080/"
    },
    "id": "Hiuk2eJrL0as",
    "outputId": "bba4a4e2-0830-49a4-ee3b-3e7399771a90"
   },
   "outputs": [
    {
     "name": "stdout",
     "output_type": "stream",
     "text": [
      "number of data points:  4170954\n"
     ]
    }
   ],
   "source": [
    "# count and print the number of data points\n",
    "data_count = df.count()\n",
    "print(\"number of data points: \",data_count)"
   ]
  },
  {
   "cell_type": "code",
   "execution_count": 12,
   "metadata": {
    "colab": {
     "base_uri": "https://localhost:8080/"
    },
    "id": "LrSC0-wvnnVi",
    "outputId": "55119175-3e4e-4852-8fee-899e745ebb7c"
   },
   "outputs": [
    {
     "name": "stdout",
     "output_type": "stream",
     "text": [
      "+-----+-------+\n",
      "|stars|  count|\n",
      "+-----+-------+\n",
      "|  1.0| 522706|\n",
      "|  4.0| 817556|\n",
      "|  3.0| 339729|\n",
      "|  2.0| 250475|\n",
      "|  5.0|2240488|\n",
      "+-----+-------+\n",
      "\n"
     ]
    }
   ],
   "source": [
    "# count and print the number of data points per stars\n",
    "count_per_star = df.groupBy(\"stars\").count()\n",
    "count_per_star.show()"
   ]
  },
  {
   "cell_type": "code",
   "execution_count": null,
   "metadata": {
    "colab": {
     "base_uri": "https://localhost:8080/",
     "height": 367
    },
    "id": "kpbPkSubAL0a",
    "outputId": "d0a0c9a2-5b87-4c74-e85c-b985e5d6aead"
   },
   "outputs": [
    {
     "data": {
      "image/png": "[encoded data removed]",
      "text/plain": [
       "<Figure size 400x400 with 1 Axes>"
      ]
     },
     "metadata": {},
     "output_type": "display_data"
    }
   ],
   "source": [
    "# Convert PySpark DataFrame to Pandas DataFrame\n",
    "count_per_star_pd = count_per_star.toPandas()\n",
    "\n",
    "# Plotting a pie chart\n",
    "plt.figure(figsize=(4, 4))\n",
    "plt.pie(count_per_star_pd['count'], labels=count_per_star_pd['stars'], autopct='%1.1f%%', startangle=100)\n",
    "plt.title('Distribution of Stars')\n",
    "plt.show()"
   ]
  },
  {
   "cell_type": "code",
   "execution_count": 13,
   "metadata": {
    "colab": {
     "base_uri": "https://localhost:8080/"
    },
    "id": "mCkCr7_ZFWJM",
    "outputId": "15c75cdb-229d-48c0-bcc0-7ecc08713daa"
   },
   "outputs": [
    {
     "name": "stdout",
     "output_type": "stream",
     "text": [
      "+-----+-------+----------+---------+\n",
      "|stars|  count|percentage|fractions|\n",
      "+-----+-------+----------+---------+\n",
      "|  1.0| 522706|     12.53|     0.08|\n",
      "|  4.0| 817556|      19.6|     0.05|\n",
      "|  3.0| 339729|      8.15|     0.12|\n",
      "|  2.0| 250475|      6.01|     0.17|\n",
      "|  5.0|2240488|     53.72|     0.02|\n",
      "+-----+-------+----------+---------+\n",
      "\n"
     ]
    }
   ],
   "source": [
    "# Calculate the percentage for each class\n",
    "count_per_star = count_per_star.withColumn(\"percentage\", round((col(\"count\") / data_count) * 100, 2))\n",
    "# Calculate fractions of each class(stars) for sampling\n",
    "count_per_star= count_per_star.withColumn(\"fractions\", round(1/col(\"percentage\"),2))\n",
    "\n",
    "# Show the DataFrame with the percentage column\n",
    "count_per_star.show()"
   ]
  },
  {
   "cell_type": "code",
   "execution_count": 14,
   "metadata": {
    "id": "8Y-A_nz_Iqow"
   },
   "outputs": [],
   "source": [
    "# collect fractions in the form of a dictionary\n",
    "fractions_dict = dict(count_per_star.select(\"stars\", \"fractions\").rdd.collect())"
   ]
  },
  {
   "cell_type": "code",
   "execution_count": 15,
   "metadata": {
    "id": "Yo5fcXeI3YaL"
   },
   "outputs": [],
   "source": [
    "# sample the data\n",
    "df = df.sampleBy(\"stars\", fractions= fractions_dict, seed = 123)"
   ]
  },
  {
   "cell_type": "code",
   "execution_count": 15,
   "metadata": {
    "colab": {
     "base_uri": "https://localhost:8080/"
    },
    "id": "g_FXAYPO9LQ4",
    "outputId": "dbbfdf0f-2d25-48b4-d17c-e5401caa3d93"
   },
   "outputs": [
    {
     "name": "stdout",
     "output_type": "stream",
     "text": [
      "number of data points:  210470\n",
      "+-----+-----+\n",
      "|stars|count|\n",
      "+-----+-----+\n",
      "|  1.0|41619|\n",
      "|  4.0|40696|\n",
      "|  3.0|40878|\n",
      "|  2.0|42776|\n",
      "|  5.0|44501|\n",
      "+-----+-----+\n",
      "\n"
     ]
    }
   ],
   "source": [
    "# count and print number of data points in the sampled data frame\n",
    "samp_count = df.count()\n",
    "print(\"number of data points: \",samp_count)\n",
    "\n",
    "# count and print number of data points per each class(stars) in the sampled data frame\n",
    "samp_count_per_star = df.groupBy(\"stars\").count()\n",
    "samp_count_per_star.show()"
   ]
  },
  {
   "cell_type": "markdown",
   "metadata": {
    "id": "5p1kRGFfKtsK"
   },
   "source": [
    "# Text Prepration"
   ]
  },
  {
   "cell_type": "code",
   "execution_count": 16,
   "metadata": {
    "colab": {
     "base_uri": "https://localhost:8080/"
    },
    "id": "iTc_2dCiwR3o",
    "outputId": "c940cc47-f4c5-4d90-d4a2-465180963879"
   },
   "outputs": [
    {
     "name": "stdout",
     "output_type": "stream",
     "text": [
      "lemma_antbnc download started this may take some time.\n",
      "Approximate size to download 907.6 KB\n",
      "[OK!]\n",
      "stopwords_iso download started this may take some time.\n",
      "Approximate size to download 2.1 KB\n",
      "[OK!]\n"
     ]
    }
   ],
   "source": [
    "# cleaning the text of reviews by tokenizing, lemmatizing, normalizing, and removing stop word and punctuations\n",
    "\n",
    "document_assembler = DocumentAssembler()\\\n",
    "  .setInputCol(\"text\")\\\n",
    "  .setOutputCol(\"document\")\n",
    "\n",
    "tokenizer = Tokenizer()\\\n",
    "  .setInputCols([\"document\"])\\\n",
    "  .setOutputCol(\"token\")\n",
    "\n",
    "lemmatizer = LemmatizerModel.pretrained()\\\n",
    "  .setInputCols([\"token\"])\\\n",
    "  .setOutputCol(\"lemma\")\n",
    "\n",
    "normalizer = Normalizer()\\\n",
    "  .setInputCols([\"lemma\"])\\\n",
    "  .setOutputCol(\"normalized\")\\\n",
    "  .setLowercase(True)\\\n",
    "  .setCleanupPatterns([\"[\\\\d\\\\s\\\\p{Punct}]\"])\n",
    "\n",
    "stop_words = StopWordsCleaner()\\\n",
    "  .pretrained(\"stopwords_iso\",\"en\")\\\n",
    "  .setInputCols([\"normalized\"])\\\n",
    "  .setOutputCol(\"no_stop\")\n",
    "\n",
    "finisher = Finisher()\\\n",
    "  .setInputCols([\"no_stop\"])\\\n",
    "  .setOutputCols(\"clean_text\")\n"
   ]
  },
  {
   "cell_type": "code",
   "execution_count": 17,
   "metadata": {
    "colab": {
     "base_uri": "https://localhost:8080/"
    },
    "id": "DPjMRarawR37",
    "outputId": "b0bc498b-c41f-406f-c327-ca8ca67f6432"
   },
   "outputs": [
    {
     "name": "stdout",
     "output_type": "stream",
     "text": [
      "+-----+--------------------------------------------------+\n",
      "|stars|                                        clean_text|\n",
      "+-----+--------------------------------------------------+\n",
      "|  3.0|[food, good, unfortunately, consistent, ordered...|\n",
      "|  5.0|[decide, need, new, doorand, green, project, bu...|\n",
      "|  5.0|[good, middle, eastern, restaurant, area, food,...|\n",
      "|  2.0|        [service, use, lot, service, slow, forget]|\n",
      "|  3.0|[husband, oz, pepperloin, meal, happy, shrimp, ...|\n",
      "|  3.0|[different, chinese, place, menu, etc, place, g...|\n",
      "|  3.0|[time, service, slow, employee, dont, good, att...|\n",
      "|  3.0|[definitely, line, wait, minute, pancakes, fine...|\n",
      "|  1.0|[bummer, area, visit, location, didnt, receive,...|\n",
      "|  1.0|         [serve, freeze, pizza, skunk, beer, nuff]|\n",
      "+-----+--------------------------------------------------+\n",
      "only showing top 10 rows\n",
      "\n"
     ]
    }
   ],
   "source": [
    "# Create a pipeline for text cleaning\n",
    "cleaning_pipeline = Pipeline(stages=[document_assembler, tokenizer, lemmatizer, normalizer, stop_words, finisher])\n",
    "\n",
    "# Fit and transform the data\n",
    "cleaned_data = cleaning_pipeline.fit(df).transform(df)\n",
    "\n",
    "# Show the cleaned data\n",
    "cleaned_data.select(\"stars\", \"clean_text\").show(truncate=50, n=10)"
   ]
  },
  {
   "cell_type": "code",
   "execution_count": 18,
   "metadata": {
    "colab": {
     "base_uri": "https://localhost:8080/"
    },
    "id": "xMZnrNmb1Hry",
    "outputId": "f5429119-9778-4967-f568-21ed3c30816a"
   },
   "outputs": [
    {
     "name": "stdout",
     "output_type": "stream",
     "text": [
      "+-----+--------------------+--------------------+\n",
      "|stars|          clean_text|            features|\n",
      "+-----+--------------------+--------------------+\n",
      "|  3.0|[food, good, unfo...|[0.00862355353800...|\n",
      "|  5.0|[decide, need, ne...|[0.03320001094075...|\n",
      "|  5.0|[good, middle, ea...|[-0.0162280027844...|\n",
      "|  2.0|[service, use, lo...|[0.04802385469277...|\n",
      "|  3.0|[husband, oz, pep...|[-0.0892298589460...|\n",
      "|  3.0|[different, chine...|[0.00736278124774...|\n",
      "|  3.0|[time, service, s...|[0.06722282473411...|\n",
      "|  3.0|[definitely, line...|[-0.0343721435974...|\n",
      "|  1.0|[bummer, area, vi...|[0.02326935671486...|\n",
      "|  1.0|[serve, freeze, p...|[-0.0095478438500...|\n",
      "+-----+--------------------+--------------------+\n",
      "only showing top 10 rows\n",
      "\n"
     ]
    }
   ],
   "source": [
    "# vectorizing the clean text using Word2Vec\n",
    "word2Vec = Word2Vec(vectorSize=200, minCount=5, inputCol=\"clean_text\", outputCol=\"w2v_features\")\n",
    "assembler = VectorAssembler(inputCols=[\"w2v_features\"], outputCol=\"features\")\n",
    "\n",
    "# Create the pipeline to vectorize the cleaned text\n",
    "vec_pipeline = Pipeline(stages=[word2Vec, assembler])\n",
    "\n",
    "# Fit and transform the data\n",
    "df_word2Vec = vec_pipeline.fit(cleaned_data).transform(cleaned_data)\n",
    "\n",
    "# Show the vectorize data\n",
    "df_word2Vec.select(\"stars\", \"clean_text\", \"features\").show(10)\n"
   ]
  },
  {
   "cell_type": "code",
   "execution_count": 19,
   "metadata": {
    "id": "pr6SVCs3p6EV"
   },
   "outputs": [],
   "source": [
    "df_word2Vec= df_word2Vec.drop(\"text\", \"w2v_features\")"
   ]
  },
  {
   "cell_type": "code",
   "execution_count": 20,
   "metadata": {
    "id": "3kyz-oiVtPPF"
   },
   "outputs": [],
   "source": [
    "# add a labels column to data frame\n",
    "# value of labels are between 0 and 4\n",
    "df_word2Vec = df_word2Vec.withColumn(\"labels\", (F.col(\"stars\") - 1).cast(\"int\"))"
   ]
  },
  {
   "cell_type": "code",
   "execution_count": 21,
   "metadata": {
    "id": "r67GGjZh50da"
   },
   "outputs": [],
   "source": [
    "# split data into train and test\n",
    "df_train = df_word2Vec.sampleBy(\"stars\", fractions={1: 0.7, 2: 0.7, 3: 0.7, 4: 0.7, 5:0.7}, seed=100)\n",
    "df_test = df_word2Vec.subtract(df_train)\n"
   ]
  },
  {
   "cell_type": "code",
   "execution_count": 24,
   "metadata": {
    "colab": {
     "base_uri": "https://localhost:8080/"
    },
    "id": "9A8kMGQdtcBO",
    "outputId": "cc472b8d-c43a-45bd-f337-a1bc50776d18"
   },
   "outputs": [
    {
     "name": "stdout",
     "output_type": "stream",
     "text": [
      "+-----+--------------------+--------------------+------+\n",
      "|stars|          clean_text|            features|labels|\n",
      "+-----+--------------------+--------------------+------+\n",
      "|  3.0|[food, good, unfo...|[-0.0154912635733...|     2|\n",
      "|  5.0|[decide, need, ne...|[0.05381454864476...|     4|\n",
      "|  5.0|[good, middle, ea...|[0.06861534240570...|     4|\n",
      "|  3.0|[husband, oz, pep...|[0.09948702835078...|     2|\n",
      "|  3.0|[different, chine...|[0.07133084333812...|     2|\n",
      "|  3.0|[time, service, s...|[-0.0902615971087...|     2|\n",
      "|  3.0|[definitely, line...|[0.02295450388660...|     2|\n",
      "|  1.0|[bummer, area, vi...|[0.06683098538113...|     0|\n",
      "|  1.0|[serve, freeze, p...|[0.10006826526174...|     0|\n",
      "|  4.0|[came, monday, lu...|[-0.0233036850113...|     3|\n",
      "+-----+--------------------+--------------------+------+\n",
      "only showing top 10 rows\n",
      "\n"
     ]
    }
   ],
   "source": [
    "df_train.show(10)"
   ]
  },
  {
   "cell_type": "markdown",
   "metadata": {
    "id": "brJQafURbnbZ"
   },
   "source": [
    "# Multi-layered Perceptron"
   ]
  },
  {
   "cell_type": "code",
   "execution_count": 26,
   "metadata": {
    "id": "9z6kjdaj5AAx"
   },
   "outputs": [],
   "source": [
    "# Define the Multilayer Perceptron Classifier\n",
    "mlp_classifier = MultilayerPerceptronClassifier(layers=[200, 100, 50, 5],\n",
    "                                                blockSize=64,\n",
    "                                                seed=1234,\n",
    "                                                maxIter=150,\n",
    "                                                featuresCol=\"features\",\n",
    "                                                labelCol=\"labels\")"
   ]
  },
  {
   "cell_type": "code",
   "execution_count": 27,
   "metadata": {
    "id": "ycWhFClxJqVp"
   },
   "outputs": [],
   "source": [
    "# Fit the Multilayer Perceptron model\n",
    "mlp_model = mlp_classifier.fit(df_train)\n",
    "\n",
    "# Make predictions on the test set\n",
    "result_mlp = mlp_model.transform(df_test)"
   ]
  },
  {
   "cell_type": "code",
   "execution_count": null,
   "metadata": {
    "id": "vKLVtQEd8Bxz"
   },
   "outputs": [],
   "source": [
    "result_mlp.select(\"labels\",\"prediction\",\"probability\").show(10)"
   ]
  },
  {
   "cell_type": "code",
   "execution_count": 29,
   "metadata": {
    "id": "0CmKky7k0DJd"
   },
   "outputs": [],
   "source": [
    "import pandas as pd\n",
    "result_mlp_pd= result_mlp.select(\"labels\", \"prediction\").toPandas()"
   ]
  },
  {
   "cell_type": "code",
   "execution_count": 30,
   "metadata": {
    "colab": {
     "base_uri": "https://localhost:8080/"
    },
    "id": "9EVc3-AC0eH1",
    "outputId": "f40179e1-fbf5-4b69-8965-7b998a1efffc"
   },
   "outputs": [
    {
     "name": "stdout",
     "output_type": "stream",
     "text": [
      "              precision    recall  f1-score   support\n",
      "\n",
      "           0       0.68      0.73      0.70     12664\n",
      "           1       0.47      0.48      0.48     12729\n",
      "           2       0.46      0.42      0.44     12243\n",
      "           3       0.47      0.43      0.45     12166\n",
      "           4       0.65      0.71      0.68     13336\n",
      "\n",
      "    accuracy                           0.56     63138\n",
      "   macro avg       0.55      0.55      0.55     63138\n",
      "weighted avg       0.55      0.56      0.55     63138\n",
      "\n"
     ]
    }
   ],
   "source": [
    "from sklearn.metrics import classification_report\n",
    "# Generate and print the classification report\n",
    "report = classification_report(result_mlp_pd['labels'], result_mlp_pd['prediction'])\n",
    "print(report)"
   ]
  },
  {
   "cell_type": "code",
   "execution_count": 32,
   "metadata": {
    "colab": {
     "base_uri": "https://localhost:8080/",
     "height": 487
    },
    "id": "P2zPte093DJW",
    "outputId": "a988e37f-683e-4d1e-aa2d-0b4eeef98c75"
   },
   "outputs": [
    {
     "data": {
      "image/png": "[encoded data removed]",
      "text/plain": [
       "<Figure size 500x500 with 2 Axes>"
      ]
     },
     "metadata": {},
     "output_type": "display_data"
    }
   ],
   "source": [
    "from sklearn.metrics import confusion_matrix\n",
    "import seaborn as sns\n",
    "import matplotlib.pyplot as plt\n",
    "\n",
    "# Generate confusion matrix\n",
    "conf_matrix = confusion_matrix(result_mlp_pd['labels'], result_mlp_pd['prediction'])\n",
    "\n",
    "# Display the confusion matrix using a heatmap\n",
    "plt.figure(figsize=(5, 5))\n",
    "sns.heatmap(conf_matrix, annot=True, fmt=\"d\", cmap=\"Blues\", xticklabels=[0, 1, 2, 3, 4], yticklabels=[0, 1, 2, 3, 4])\n",
    "plt.title(\"Confusion Matrix\")\n",
    "plt.xlabel(\"Predicted Label\")\n",
    "plt.ylabel(\"True Label\")\n",
    "plt.show()"
   ]
  },
  {
   "cell_type": "markdown",
   "metadata": {
    "id": "EHJXZ6aas2s0"
   },
   "source": [
    "# Logistic Regression"
   ]
  },
  {
   "cell_type": "code",
   "execution_count": 22,
   "metadata": {
    "id": "qRksRoJGtTwS"
   },
   "outputs": [],
   "source": [
    "from pyspark.ml.classification import LogisticRegression # ml model"
   ]
  },
  {
   "cell_type": "code",
   "execution_count": 28,
   "metadata": {
    "id": "p3au2iRytUdm"
   },
   "outputs": [],
   "source": [
    "# model object\n",
    "lr = LogisticRegression(featuresCol='features',\n",
    "                        labelCol='labels',\n",
    "                        family=\"multinomial\",\n",
    "                        regParam=0.01,\n",
    "                        elasticNetParam=0,\n",
    "                        maxIter=100)\n",
    "# make a pipeline\n",
    "lr_pipeline = Pipeline(stages=[lr])"
   ]
  },
  {
   "cell_type": "code",
   "execution_count": 29,
   "metadata": {
    "id": "3_ciRchMtUZh"
   },
   "outputs": [],
   "source": [
    "# train model with default parameters\n",
    "lrModel = lr_pipeline.fit(df_train)"
   ]
  },
  {
   "cell_type": "code",
   "execution_count": 30,
   "metadata": {
    "id": "u2vUYls7tUWZ"
   },
   "outputs": [],
   "source": [
    "# get predictions for test set\n",
    "result_lr = lrModel.transform(df_test)"
   ]
  },
  {
   "cell_type": "code",
   "execution_count": 26,
   "metadata": {
    "colab": {
     "base_uri": "https://localhost:8080/"
    },
    "id": "EYzi6jpFtaoU",
    "outputId": "d1eafd43-337c-4eea-eb2d-e06f00a14a85"
   },
   "outputs": [
    {
     "name": "stdout",
     "output_type": "stream",
     "text": [
      "+------+----------+\n",
      "|labels|prediction|\n",
      "+------+----------+\n",
      "|     0|       4.0|\n",
      "|     0|       0.0|\n",
      "|     0|       0.0|\n",
      "|     1|       1.0|\n",
      "|     1|       0.0|\n",
      "|     1|       2.0|\n",
      "|     1|       1.0|\n",
      "|     1|       0.0|\n",
      "|     1|       2.0|\n",
      "|     1|       1.0|\n",
      "+------+----------+\n",
      "only showing top 10 rows\n",
      "\n"
     ]
    }
   ],
   "source": [
    "result_lr.select(\"labels\", \"prediction\").show(10)"
   ]
  },
  {
   "cell_type": "code",
   "execution_count": 31,
   "metadata": {
    "id": "eHWLvzJf4DNv"
   },
   "outputs": [],
   "source": [
    "import pandas as pd\n",
    "result_lr_pd = result_lr.select(\"labels\", \"prediction\").toPandas()"
   ]
  },
  {
   "cell_type": "code",
   "execution_count": 32,
   "metadata": {
    "colab": {
     "base_uri": "https://localhost:8080/"
    },
    "id": "mW7_V8BgEO5V",
    "outputId": "2235d5a4-e22d-44f3-ddc2-866ae5748571"
   },
   "outputs": [
    {
     "name": "stdout",
     "output_type": "stream",
     "text": [
      "              precision    recall  f1-score   support\n",
      "\n",
      "           0       0.68      0.73      0.70     12664\n",
      "           1       0.49      0.49      0.49     12729\n",
      "           2       0.47      0.43      0.45     12243\n",
      "           3       0.48      0.45      0.47     12166\n",
      "           4       0.66      0.71      0.68     13336\n",
      "\n",
      "    accuracy                           0.56     63138\n",
      "   macro avg       0.56      0.56      0.56     63138\n",
      "weighted avg       0.56      0.56      0.56     63138\n",
      "\n"
     ]
    }
   ],
   "source": [
    "from sklearn.metrics import classification_report\n",
    "# Generate and print the classification report\n",
    "report = classification_report(result_lr_pd['labels'], result_lr_pd['prediction'])\n",
    "print(report)"
   ]
  },
  {
   "cell_type": "code",
   "execution_count": 33,
   "metadata": {
    "colab": {
     "base_uri": "https://localhost:8080/",
     "height": 487
    },
    "id": "6wogFMzJFVn7",
    "outputId": "7713f4fa-c1c2-4207-95bf-85ad9e8b9b2a"
   },
   "outputs": [
    {
     "data": {
      "image/png": "[encoded data removed]",
      "text/plain": [
       "<Figure size 500x500 with 2 Axes>"
      ]
     },
     "metadata": {},
     "output_type": "display_data"
    }
   ],
   "source": [
    "from sklearn.metrics import confusion_matrix\n",
    "import seaborn as sns\n",
    "import matplotlib.pyplot as plt\n",
    "\n",
    "# Generate confusion matrix\n",
    "conf_matrix = confusion_matrix(result_lr_pd['labels'], result_lr_pd['prediction'])\n",
    "\n",
    "# Display the confusion matrix using a heatmap\n",
    "plt.figure(figsize=(5, 5))\n",
    "sns.heatmap(conf_matrix, annot=True, fmt=\"d\", cmap=\"Reds\", xticklabels=[0, 1, 2, 3, 4], yticklabels=[0, 1, 2, 3, 4])\n",
    "plt.title(\"Confusion Matrix\")\n",
    "plt.xlabel(\"Predicted Label\")\n",
    "plt.ylabel(\"True Label\")\n",
    "plt.show()"
   ]
  }
 ],
 "metadata": {
  "colab": {
   "provenance": []
  },
  "kernelspec": {
   "display_name": "Python 3 (ipykernel)",
   "language": "python",
   "name": "python3"
  },
  "language_info": {
   "codemirror_mode": {
    "name": "ipython",
    "version": 3
   },
   "file_extension": ".py",
   "mimetype": "text/x-python",
   "name": "python",
   "nbconvert_exporter": "python",
   "pygments_lexer": "ipython3",
   "version": "3.11.5"
  }
 },
 "nbformat": 4,
 "nbformat_minor": 4
}
